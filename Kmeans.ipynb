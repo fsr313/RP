{
 "cells": [
  {
   "cell_type": "code",
   "execution_count": 5,
   "metadata": {},
   "outputs": [],
   "source": [
    "# Inicializar el ambiente\n",
    "import numpy as np\n",
    "import pandas as pd\n",
    "import random\n",
    "import sys\n",
    "from scipy.spatial import distance\n",
    "np.set_printoptions(precision=2, suppress=True) # Cortar la impresión de decimales a 1\n",
    "import matplotlib.pyplot as plt\n",
    "\n",
    "\n",
    "\n",
    "LARGER_DISTANCE = sys.maxsize\n",
    "TALK = True # TALK = True, imprime resultados parciales"
   ]
  },
  {
   "cell_type": "code",
   "execution_count": 6,
   "metadata": {},
   "outputs": [
    {
     "data": {
      "text/html": [
       "<div>\n",
       "<style>\n",
       "    .dataframe thead tr:only-child th {\n",
       "        text-align: right;\n",
       "    }\n",
       "\n",
       "    .dataframe thead th {\n",
       "        text-align: left;\n",
       "    }\n",
       "\n",
       "    .dataframe tbody tr th {\n",
       "        vertical-align: top;\n",
       "    }\n",
       "</style>\n",
       "<table border=\"1\" class=\"dataframe\">\n",
       "  <thead>\n",
       "    <tr style=\"text-align: right;\">\n",
       "      <th></th>\n",
       "      <th>directores</th>\n",
       "      <th>criticas</th>\n",
       "      <th>duracion</th>\n",
       "      <th>genero</th>\n",
       "      <th>actores1</th>\n",
       "      <th>actores2</th>\n",
       "      <th>actores3</th>\n",
       "      <th>rostros</th>\n",
       "      <th>scores</th>\n",
       "      <th>gross</th>\n",
       "      <th>budget</th>\n",
       "    </tr>\n",
       "  </thead>\n",
       "  <tbody>\n",
       "    <tr>\n",
       "      <th>0</th>\n",
       "      <td>0.024778</td>\n",
       "      <td>0.003295</td>\n",
       "      <td>0.011543</td>\n",
       "      <td>0.007769</td>\n",
       "      <td>0.034020</td>\n",
       "      <td>0.029215</td>\n",
       "      <td>0.027567</td>\n",
       "      <td>0.007924</td>\n",
       "      <td>0.014223</td>\n",
       "      <td>0.000016</td>\n",
       "      <td>7.773335e-08</td>\n",
       "    </tr>\n",
       "    <tr>\n",
       "      <th>1</th>\n",
       "      <td>0.031655</td>\n",
       "      <td>0.001073</td>\n",
       "      <td>0.012825</td>\n",
       "      <td>0.011654</td>\n",
       "      <td>0.015347</td>\n",
       "      <td>0.000761</td>\n",
       "      <td>0.027559</td>\n",
       "      <td>0.028946</td>\n",
       "      <td>0.013576</td>\n",
       "      <td>0.000002</td>\n",
       "      <td>2.522814e-03</td>\n",
       "    </tr>\n",
       "    <tr>\n",
       "      <th>2</th>\n",
       "      <td>0.031642</td>\n",
       "      <td>0.000996</td>\n",
       "      <td>0.009747</td>\n",
       "      <td>0.018128</td>\n",
       "      <td>0.034004</td>\n",
       "      <td>0.029206</td>\n",
       "      <td>0.027551</td>\n",
       "      <td>0.007924</td>\n",
       "      <td>0.013576</td>\n",
       "      <td>0.007426</td>\n",
       "      <td>9.893336e-08</td>\n",
       "    </tr>\n",
       "    <tr>\n",
       "      <th>3</th>\n",
       "      <td>0.001505</td>\n",
       "      <td>0.003295</td>\n",
       "      <td>0.005515</td>\n",
       "      <td>0.022013</td>\n",
       "      <td>0.033988</td>\n",
       "      <td>0.029196</td>\n",
       "      <td>0.027543</td>\n",
       "      <td>0.005789</td>\n",
       "      <td>0.016162</td>\n",
       "      <td>0.007426</td>\n",
       "      <td>2.522814e-03</td>\n",
       "    </tr>\n",
       "    <tr>\n",
       "      <th>4</th>\n",
       "      <td>0.031629</td>\n",
       "      <td>0.000077</td>\n",
       "      <td>0.011158</td>\n",
       "      <td>0.011654</td>\n",
       "      <td>0.024448</td>\n",
       "      <td>0.029186</td>\n",
       "      <td>0.006778</td>\n",
       "      <td>0.011579</td>\n",
       "      <td>0.016593</td>\n",
       "      <td>0.007426</td>\n",
       "      <td>2.522814e-03</td>\n",
       "    </tr>\n",
       "  </tbody>\n",
       "</table>\n",
       "</div>"
      ],
      "text/plain": [
       "   directores  criticas  duracion    genero  actores1  actores2  actores3  \\\n",
       "0    0.024778  0.003295  0.011543  0.007769  0.034020  0.029215  0.027567   \n",
       "1    0.031655  0.001073  0.012825  0.011654  0.015347  0.000761  0.027559   \n",
       "2    0.031642  0.000996  0.009747  0.018128  0.034004  0.029206  0.027551   \n",
       "3    0.001505  0.003295  0.005515  0.022013  0.033988  0.029196  0.027543   \n",
       "4    0.031629  0.000077  0.011158  0.011654  0.024448  0.029186  0.006778   \n",
       "\n",
       "    rostros    scores     gross        budget  \n",
       "0  0.007924  0.014223  0.000016  7.773335e-08  \n",
       "1  0.028946  0.013576  0.000002  2.522814e-03  \n",
       "2  0.007924  0.013576  0.007426  9.893336e-08  \n",
       "3  0.005789  0.016162  0.007426  2.522814e-03  \n",
       "4  0.011579  0.016593  0.007426  2.522814e-03  "
      ]
     },
     "execution_count": 6,
     "metadata": {},
     "output_type": "execute_result"
    }
   ],
   "source": [
    "numericalDF = pd.read_csv('numericalData.csv')\n",
    "columnas = ['directores','criticas','duracion','genero','actores1','actores2','actores3','rostros',\n",
    "            'scores','gross','budget']\n",
    "del numericalDF['Unnamed: 0']\n",
    "\n",
    "for i in columnas:\n",
    "    numericalDF.loc[numericalDF[i] == 0, i] = numericalDF[i].mean()\n",
    "X = numericalDF.head(20)\n",
    "numericalDF.head()"
   ]
  },
  {
   "cell_type": "code",
   "execution_count": 7,
   "metadata": {},
   "outputs": [
    {
     "data": {
      "image/png": "[encoded data removed]",
      "text/plain": [
       "<matplotlib.figure.Figure at 0xada4af0>"
      ]
     },
     "metadata": {},
     "output_type": "display_data"
    }
   ],
   "source": [
    "DATA_SET = numericalDF.values\n",
    "DATA_LEN = len(DATA_SET)\n",
    "plt.plot(DATA_SET)\n",
    "plt.show()\n",
    "class DataPoint:\n",
    "    def __init__(self, p):\n",
    "        self.value = p[:]\n",
    "        \n",
    "    def set_value(self, p):\n",
    "        self.value = p\n",
    "    \n",
    "    def get_value(self):\n",
    "        return self.value\n",
    "    \n",
    "    def set_cluster(self, cluster):\n",
    "        self.cluster = cluster\n",
    "    \n",
    "    def get_cluster(self):\n",
    "        return self.cluster\n",
    "\n",
    "data = []\n",
    "def initialize_dataset():\n",
    "    for i in range(DATA_LEN):\n",
    "        point = DataPoint(DATA_SET[i])\n",
    "        point.set_cluster(None)\n",
    "        data.append(point)\n",
    "    return\n",
    "initialize_dataset()\n",
    "NUM_CLUSTERS = 3"
   ]
  },
  {
   "cell_type": "code",
   "execution_count": 4,
   "metadata": {},
   "outputs": [
    {
     "name": "stdout",
     "output_type": "stream",
     "text": [
      "Centroides inicializados en:\n",
      "[0.024777855766521698, 0.0032946427378127371, 0.011542830863979774, 0.0077693096886551514, 0.03402008725059831, 0.029215390682287838, 0.027566914529451692, 0.0079240093608800299, 0.014222819070406156, 1.5945547294475328e-05, 7.7733351917473585e-08]\n",
      "[0.031655459844496019, 0.0010726743797529841, 0.012825367626644192, 0.011653964532982728, 0.015347163824065809, 0.00076121895247385849, 0.027559087466836853, 0.028946257900327749, 0.013576327294478606, 1.953947928894016e-06, 0.0025228142931399203]\n",
      "[0.031642259068914484, 0.00099605478119919942, 0.0097472793962495863, 0.018128389273528688, 0.034003864033025306, 0.029205754999345124, 0.027551260404222015, 0.0079240093608800299, 0.013576327294478606, 0.0074260048110705605, 9.8933356985875462e-08]\n",
      "\n"
     ]
    }
   ],
   "source": [
    "SAMPLING_METHOD = 1 \n",
    "\n",
    "centroids = []\n",
    "def initialize_centroids():\n",
    "    if (TALK) : \n",
    "        print(\"Centroides inicializados en:\")\n",
    "    for c in range(NUM_CLUSTERS):\n",
    "        if (SAMPLING_METHOD == 0) :\n",
    "            which = random.randint(0,DATA_LEN-1)\n",
    "        elif (SAMPLING_METHOD == 1):\n",
    "            which = c\n",
    "        else :\n",
    "            which = DATA_LEN-1 - c\n",
    "                \n",
    "        centroids.append(list(DATA_SET[which]))\n",
    "        if (TALK) : \n",
    "            print(centroids[c])        \n",
    "    if (TALK) : \n",
    "        print()\n",
    "    \n",
    "    return\n",
    "\n",
    "# --------------------------\n",
    "# Inicializar los centroides\n",
    "initialize_centroids()"
   ]
  },
  {
   "cell_type": "code",
   "execution_count": 5,
   "metadata": {},
   "outputs": [
    {
     "name": "stdout",
     "output_type": "stream",
     "text": [
      "El cluster  0  incluye  1395 miembros.\n",
      "El cluster  1  incluye  3212 miembros.\n",
      "El cluster  2  incluye  429 miembros.\n",
      "\n"
     ]
    }
   ],
   "source": [
    "def update_clusters():\n",
    "    changed = False\n",
    "    \n",
    "    for i in range(DATA_LEN):\n",
    "        minDistance = LARGER_DISTANCE\n",
    "        currentCluster = 0\n",
    "        \n",
    "        for j in range(NUM_CLUSTERS):\n",
    "            dist = distance.euclidean(data[i].get_value(), centroids[j])\n",
    "            if(dist < minDistance):\n",
    "                minDistance = dist\n",
    "                currentCluster = j\n",
    "        \n",
    "        if(data[i].get_cluster() is None or data[i].get_cluster() != currentCluster):\n",
    "            data[i].set_cluster(currentCluster)\n",
    "            changed = True\n",
    "            \n",
    "    members = [0] * NUM_CLUSTERS\n",
    "    for i in range(DATA_LEN):\n",
    "        members[data[i].get_cluster()] += 1\n",
    "    \n",
    "    if (TALK) : \n",
    "        for j in range(NUM_CLUSTERS):\n",
    "            print(\"El cluster \", j, \" incluye \", members[j], \"miembros.\")\n",
    "        print()\n",
    "            \n",
    "    return changed\n",
    "\n",
    "# --------------------------\n",
    "# Actualizar los clusters\n",
    "KEEP_WALKING = update_clusters()"
   ]
  },
  {
   "cell_type": "code",
   "execution_count": 6,
   "metadata": {},
   "outputs": [
    {
     "name": "stdout",
     "output_type": "stream",
     "text": [
      "El cluster  0  incluye  1395 miembros.\n",
      "El cluster  1  incluye  3212 miembros.\n",
      "El cluster  2  incluye  429 miembros.\n",
      "\n",
      "No más cambios.\n"
     ]
    }
   ],
   "source": [
    "while(KEEP_WALKING):\n",
    "    KEEP_WALKING = update_clusters()\n",
    "    if (KEEP_WALKING):\n",
    "        update_centroids()\n",
    "    else :\n",
    "        if (TALK) : \n",
    "            print (\"No más cambios.\")"
   ]
  },
  {
   "cell_type": "code",
   "execution_count": null,
   "metadata": {},
   "outputs": [],
   "source": []
  },
  {
   "cell_type": "code",
   "execution_count": null,
   "metadata": {},
   "outputs": [],
   "source": []
  },
  {
   "cell_type": "code",
   "execution_count": null,
   "metadata": {},
   "outputs": [],
   "source": []
  },
  {
   "cell_type": "code",
   "execution_count": null,
   "metadata": {},
   "outputs": [],
   "source": []
  },
  {
   "cell_type": "code",
   "execution_count": null,
   "metadata": {},
   "outputs": [],
   "source": []
  },
  {
   "cell_type": "code",
   "execution_count": null,
   "metadata": {},
   "outputs": [],
   "source": []
  }
 ],
 "metadata": {
  "kernelspec": {
   "display_name": "Python 3",
   "language": "python",
   "name": "python3"
  },
  "language_info": {
   "codemirror_mode": {
    "name": "ipython",
    "version": 3
   },
   "file_extension": ".py",
   "mimetype": "text/x-python",
   "name": "python",
   "nbconvert_exporter": "python",
   "pygments_lexer": "ipython3",
   "version": "3.6.3"
  }
 },
 "nbformat": 4,
 "nbformat_minor": 2
}
