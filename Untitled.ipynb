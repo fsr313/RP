{
 "cells": [
  {
   "cell_type": "code",
   "execution_count": 1,
   "metadata": {},
   "outputs": [],
   "source": [
    "import pandas as pd\n",
    "import numpy as np\n",
    "import matplotlib as plt\n",
    "%matplotlib inline"
   ]
  },
  {
   "cell_type": "code",
   "execution_count": 17,
   "metadata": {},
   "outputs": [
    {
     "name": "stdout",
     "output_type": "stream",
     "text": [
      "5037\n",
      "['Unnamed: 0', 'color', 'director_name', 'num_critic_for_reviews', 'duration', 'director_facebook_likes', 'actor_3_facebook_likes', 'actor_2_name', 'actor_1_facebook_likes', 'gross', 'genres', 'actor_1_name', 'movie_title', 'num_voted_users', 'cast_total_facebook_likes', 'actor_3_name', 'facenumber_in_poster', 'plot_keywords', 'movie_imdb_link', 'num_user_for_reviews', 'language', 'country', 'content_rating', 'budget', 'title_year', 'actor_2_facebook_likes', 'imdb_score', 'aspect_ratio', 'movie_facebook_likes']\n"
     ]
    },
    {
     "data": {
      "text/html": [
       "<div>\n",
       "<style>\n",
       "    .dataframe thead tr:only-child th {\n",
       "        text-align: right;\n",
       "    }\n",
       "\n",
       "    .dataframe thead th {\n",
       "        text-align: left;\n",
       "    }\n",
       "\n",
       "    .dataframe tbody tr th {\n",
       "        vertical-align: top;\n",
       "    }\n",
       "</style>\n",
       "<table border=\"1\" class=\"dataframe\">\n",
       "  <thead>\n",
       "    <tr style=\"text-align: right;\">\n",
       "      <th></th>\n",
       "      <th>Unnamed: 0</th>\n",
       "      <th>color</th>\n",
       "      <th>director_name</th>\n",
       "      <th>num_critic_for_reviews</th>\n",
       "      <th>duration</th>\n",
       "      <th>director_facebook_likes</th>\n",
       "      <th>actor_3_facebook_likes</th>\n",
       "      <th>actor_2_name</th>\n",
       "      <th>actor_1_facebook_likes</th>\n",
       "      <th>gross</th>\n",
       "      <th>...</th>\n",
       "      <th>num_user_for_reviews</th>\n",
       "      <th>language</th>\n",
       "      <th>country</th>\n",
       "      <th>content_rating</th>\n",
       "      <th>budget</th>\n",
       "      <th>title_year</th>\n",
       "      <th>actor_2_facebook_likes</th>\n",
       "      <th>imdb_score</th>\n",
       "      <th>aspect_ratio</th>\n",
       "      <th>movie_facebook_likes</th>\n",
       "    </tr>\n",
       "  </thead>\n",
       "  <tbody>\n",
       "    <tr>\n",
       "      <th>0</th>\n",
       "      <td>0</td>\n",
       "      <td>Color</td>\n",
       "      <td>James Cameron</td>\n",
       "      <td>723.0</td>\n",
       "      <td>178.0</td>\n",
       "      <td>0.0</td>\n",
       "      <td>855.0</td>\n",
       "      <td>Joel David Moore</td>\n",
       "      <td>1000.0</td>\n",
       "      <td>760505847.0</td>\n",
       "      <td>...</td>\n",
       "      <td>3054.0</td>\n",
       "      <td>English</td>\n",
       "      <td>USA</td>\n",
       "      <td>PG-13</td>\n",
       "      <td>237000000.0</td>\n",
       "      <td>2009.0</td>\n",
       "      <td>936.0</td>\n",
       "      <td>7.9</td>\n",
       "      <td>1.78</td>\n",
       "      <td>33000</td>\n",
       "    </tr>\n",
       "    <tr>\n",
       "      <th>1</th>\n",
       "      <td>1</td>\n",
       "      <td>Color</td>\n",
       "      <td>Gore Verbinski</td>\n",
       "      <td>302.0</td>\n",
       "      <td>169.0</td>\n",
       "      <td>563.0</td>\n",
       "      <td>1000.0</td>\n",
       "      <td>Orlando Bloom</td>\n",
       "      <td>40000.0</td>\n",
       "      <td>309404152.0</td>\n",
       "      <td>...</td>\n",
       "      <td>1238.0</td>\n",
       "      <td>English</td>\n",
       "      <td>USA</td>\n",
       "      <td>PG-13</td>\n",
       "      <td>300000000.0</td>\n",
       "      <td>2007.0</td>\n",
       "      <td>5000.0</td>\n",
       "      <td>7.1</td>\n",
       "      <td>2.35</td>\n",
       "      <td>0</td>\n",
       "    </tr>\n",
       "    <tr>\n",
       "      <th>2</th>\n",
       "      <td>2</td>\n",
       "      <td>Color</td>\n",
       "      <td>Sam Mendes</td>\n",
       "      <td>602.0</td>\n",
       "      <td>148.0</td>\n",
       "      <td>0.0</td>\n",
       "      <td>161.0</td>\n",
       "      <td>Rory Kinnear</td>\n",
       "      <td>11000.0</td>\n",
       "      <td>200074175.0</td>\n",
       "      <td>...</td>\n",
       "      <td>994.0</td>\n",
       "      <td>English</td>\n",
       "      <td>UK</td>\n",
       "      <td>PG-13</td>\n",
       "      <td>245000000.0</td>\n",
       "      <td>2015.0</td>\n",
       "      <td>393.0</td>\n",
       "      <td>6.8</td>\n",
       "      <td>2.35</td>\n",
       "      <td>85000</td>\n",
       "    </tr>\n",
       "    <tr>\n",
       "      <th>3</th>\n",
       "      <td>3</td>\n",
       "      <td>Color</td>\n",
       "      <td>Christopher Nolan</td>\n",
       "      <td>813.0</td>\n",
       "      <td>164.0</td>\n",
       "      <td>22000.0</td>\n",
       "      <td>23000.0</td>\n",
       "      <td>Christian Bale</td>\n",
       "      <td>27000.0</td>\n",
       "      <td>448130642.0</td>\n",
       "      <td>...</td>\n",
       "      <td>2701.0</td>\n",
       "      <td>English</td>\n",
       "      <td>USA</td>\n",
       "      <td>PG-13</td>\n",
       "      <td>250000000.0</td>\n",
       "      <td>2012.0</td>\n",
       "      <td>23000.0</td>\n",
       "      <td>8.5</td>\n",
       "      <td>2.35</td>\n",
       "      <td>164000</td>\n",
       "    </tr>\n",
       "    <tr>\n",
       "      <th>4</th>\n",
       "      <td>4</td>\n",
       "      <td>NaN</td>\n",
       "      <td>Doug Walker</td>\n",
       "      <td>NaN</td>\n",
       "      <td>NaN</td>\n",
       "      <td>131.0</td>\n",
       "      <td>NaN</td>\n",
       "      <td>Rob Walker</td>\n",
       "      <td>131.0</td>\n",
       "      <td>NaN</td>\n",
       "      <td>...</td>\n",
       "      <td>NaN</td>\n",
       "      <td>NaN</td>\n",
       "      <td>NaN</td>\n",
       "      <td>NaN</td>\n",
       "      <td>NaN</td>\n",
       "      <td>NaN</td>\n",
       "      <td>12.0</td>\n",
       "      <td>7.1</td>\n",
       "      <td>NaN</td>\n",
       "      <td>0</td>\n",
       "    </tr>\n",
       "  </tbody>\n",
       "</table>\n",
       "<p>5 rows × 29 columns</p>\n",
       "</div>"
      ],
      "text/plain": [
       "   Unnamed: 0  color      director_name  num_critic_for_reviews  duration  \\\n",
       "0           0  Color      James Cameron                   723.0     178.0   \n",
       "1           1  Color     Gore Verbinski                   302.0     169.0   \n",
       "2           2  Color         Sam Mendes                   602.0     148.0   \n",
       "3           3  Color  Christopher Nolan                   813.0     164.0   \n",
       "4           4    NaN        Doug Walker                     NaN       NaN   \n",
       "\n",
       "   director_facebook_likes  actor_3_facebook_likes      actor_2_name  \\\n",
       "0                      0.0                   855.0  Joel David Moore   \n",
       "1                    563.0                  1000.0     Orlando Bloom   \n",
       "2                      0.0                   161.0      Rory Kinnear   \n",
       "3                  22000.0                 23000.0    Christian Bale   \n",
       "4                    131.0                     NaN        Rob Walker   \n",
       "\n",
       "   actor_1_facebook_likes        gross          ...           \\\n",
       "0                  1000.0  760505847.0          ...            \n",
       "1                 40000.0  309404152.0          ...            \n",
       "2                 11000.0  200074175.0          ...            \n",
       "3                 27000.0  448130642.0          ...            \n",
       "4                   131.0          NaN          ...            \n",
       "\n",
       "  num_user_for_reviews language country  content_rating       budget  \\\n",
       "0               3054.0  English     USA           PG-13  237000000.0   \n",
       "1               1238.0  English     USA           PG-13  300000000.0   \n",
       "2                994.0  English      UK           PG-13  245000000.0   \n",
       "3               2701.0  English     USA           PG-13  250000000.0   \n",
       "4                  NaN      NaN     NaN             NaN          NaN   \n",
       "\n",
       "  title_year  actor_2_facebook_likes imdb_score aspect_ratio  \\\n",
       "0     2009.0                   936.0        7.9         1.78   \n",
       "1     2007.0                  5000.0        7.1         2.35   \n",
       "2     2015.0                   393.0        6.8         2.35   \n",
       "3     2012.0                 23000.0        8.5         2.35   \n",
       "4        NaN                    12.0        7.1          NaN   \n",
       "\n",
       "   movie_facebook_likes  \n",
       "0                 33000  \n",
       "1                     0  \n",
       "2                 85000  \n",
       "3                164000  \n",
       "4                     0  \n",
       "\n",
       "[5 rows x 29 columns]"
      ]
     },
     "execution_count": 17,
     "metadata": {},
     "output_type": "execute_result"
    }
   ],
   "source": [
    "df = pd.read_csv('movie_metadata.csv')\n",
    "print(len(df))\n",
    "print(list(df))\n",
    "df.head()"
   ]
  },
  {
   "cell_type": "code",
   "execution_count": 3,
   "metadata": {},
   "outputs": [],
   "source": [
    "dicc_directores = dict()\n",
    "count = 0\n",
    "array = []\n",
    "for i in df['director_name']:\n",
    "    if i not in dicc_directores.keys():\n",
    "        count = count + 1\n",
    "        dicc_directores.update({i:count})\n",
    "    array.append(dicc_directores[i])\n",
    "#print(array)\n",
    "#print(dicc_directores)\n",
    "df['director_name'] = array"
   ]
  },
  {
   "cell_type": "code",
   "execution_count": 32,
   "metadata": {},
   "outputs": [],
   "source": [
    "array = []\n",
    "a = df['num_critic_for_reviews'][4]\n",
    "for i in df['num_critic_for_reviews']:\n",
    "    if np.isnan(i):\n",
    "        i = 0\n",
    "    array.append(i)\n",
    "df['num_critic_for_reviews'] = array"
   ]
  },
  {
   "cell_type": "code",
   "execution_count": 33,
   "metadata": {},
   "outputs": [],
   "source": [
    "array = []\n",
    "a = df['duration'][4]\n",
    "for i in df['duration']:\n",
    "    if np.isnan(i):\n",
    "        i = 0\n",
    "    array.append(i)\n",
    "df['duration'] = array"
   ]
  },
  {
   "cell_type": "code",
   "execution_count": 41,
   "metadata": {},
   "outputs": [],
   "source": [
    "array = []\n",
    "a = df['gross'][4]\n",
    "for i in df['gross']:\n",
    "    if np.isnan(i):\n",
    "        i = 0\n",
    "    array.append(i)\n",
    "df['gross'] = array"
   ]
  },
  {
   "cell_type": "code",
   "execution_count": 35,
   "metadata": {},
   "outputs": [
    {
     "name": "stdout",
     "output_type": "stream",
     "text": [
      "['Action', 'Adventure', 'Fantasy', 'Sci-Fi']\n"
     ]
    }
   ],
   "source": [
    "dicc_genres = dict()\n",
    "count = 0\n",
    "array = []\n",
    "print(df['genres'][0].split('|'))\n",
    "for values in df['genres']:\n",
    "    a = []\n",
    "    for i in values.split('|'):\n",
    "        if i not in dicc_genres.keys():\n",
    "            count = count + 1\n",
    "            dicc_genres.update({i:count})\n",
    "        a.append(dicc_genres[i])\n",
    "    array.append(a)\n",
    "df['genres'] = array"
   ]
  },
  {
   "cell_type": "code",
   "execution_count": 36,
   "metadata": {},
   "outputs": [],
   "source": [
    "dicc_actores = dict()\n",
    "count = 0\n",
    "array = []\n",
    "for i in df['actor_1_name']:\n",
    "    if i not in dicc_actores.keys():\n",
    "        count = count + 1\n",
    "        dicc_actores.update({i:count})\n",
    "    array.append(dicc_actores[i])\n",
    "#print(array)\n",
    "#print(dicc_actores)\n",
    "df['actor_1_name'] = array"
   ]
  },
  {
   "cell_type": "code",
   "execution_count": 37,
   "metadata": {
    "scrolled": true
   },
   "outputs": [
    {
     "name": "stdout",
     "output_type": "stream",
     "text": [
      "5036\n",
      "5036\n",
      "5036\n",
      "[]\n"
     ]
    }
   ],
   "source": [
    "#movie_title\n",
    "dicc_titulos = dict()\n",
    "count = 0\n",
    "array = []\n",
    "for i in df['movie_title']:\n",
    "    while(i in dicc_titulos):\n",
    "        i = i + 'a'\n",
    "    count = count + 1\n",
    "    dicc_titulos.update({i:count})\n",
    "    array.append(dicc_titulos[i])\n",
    "\n",
    "#print(array)\n",
    "#print(len(df))\n",
    "#print(len(dicc_titulos))\n",
    "#print(len(array))\n",
    "df['movie_title'] = array\n"
   ]
  },
  {
   "cell_type": "code",
   "execution_count": 38,
   "metadata": {},
   "outputs": [],
   "source": [
    "dicc_actores = dict()\n",
    "count = 0\n",
    "array = []\n",
    "for i in df['actor_2_name']:\n",
    "    if i not in dicc_actores.keys():\n",
    "        count = count + 1\n",
    "        dicc_actores.update({i:count})\n",
    "    array.append(dicc_actores[i])\n",
    "#print(array)\n",
    "#print(dicc_actores)\n",
    "df['actor_2_name'] = array"
   ]
  },
  {
   "cell_type": "code",
   "execution_count": 39,
   "metadata": {},
   "outputs": [],
   "source": [
    "dicc_actores = dict()\n",
    "count = 0\n",
    "array = []\n",
    "for i in df['actor_3_name']:\n",
    "    if i not in dicc_actores.keys():\n",
    "        count = count + 1\n",
    "        dicc_actores.update({i:count})\n",
    "    array.append(dicc_actores[i])\n",
    "#print(array)\n",
    "#print(dicc_actores)\n",
    "df['actor_3_name'] = array"
   ]
  },
  {
   "cell_type": "code",
   "execution_count": 42,
   "metadata": {},
   "outputs": [],
   "source": [
    "array = []\n",
    "a = df['facenumber_in_poster'][4]\n",
    "for i in df['facenumber_in_poster']:\n",
    "    if np.isnan(i):\n",
    "        i = 0\n",
    "    array.append(i)\n",
    "df['facenumber_in_poster'] = array"
   ]
  },
  {
   "cell_type": "code",
   "execution_count": 46,
   "metadata": {},
   "outputs": [
    {
     "name": "stdout",
     "output_type": "stream",
     "text": [
      "250000000.0\n"
     ]
    }
   ],
   "source": [
    "array = []\n",
    "a = df['budget'][3]\n",
    "for i in df['budget']:\n",
    "    if np.isnan(i):\n",
    "        i = 0\n",
    "    array.append(i)\n",
    "df['budget'] = array"
   ]
  },
  {
   "cell_type": "code",
   "execution_count": 47,
   "metadata": {},
   "outputs": [],
   "source": [
    "array = []\n",
    "a = df['imdb_score'][3]\n",
    "for i in df['imdb_score']:\n",
    "    if np.isnan(i):\n",
    "        i = 0\n",
    "    array.append(i)\n",
    "df['imdb_score'] = array"
   ]
  }
 ],
 "metadata": {
  "kernelspec": {
   "display_name": "Python 3",
   "language": "python",
   "name": "python3"
  },
  "language_info": {
   "codemirror_mode": {
    "name": "ipython",
    "version": 3
   },
   "file_extension": ".py",
   "mimetype": "text/x-python",
   "name": "python",
   "nbconvert_exporter": "python",
   "pygments_lexer": "ipython3",
   "version": "3.6.3"
  }
 },
 "nbformat": 4,
 "nbformat_minor": 2
}
