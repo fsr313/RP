{
 "cells": [
  {
   "cell_type": "code",
   "execution_count": 6,
   "metadata": {},
   "outputs": [],
   "source": [
    "import numpy as np\n",
    "import pandas as pd\n",
    "from sklearn.model_selection import train_test_split\n",
    "from sklearn.svm import SVC, LinearSVC\n",
    "import time\n",
    "from IPython.display import display"
   ]
  },
  {
   "cell_type": "code",
   "execution_count": 7,
   "metadata": {},
   "outputs": [
    {
     "data": {
      "text/html": [
       "<div>\n",
       "<style>\n",
       "    .dataframe thead tr:only-child th {\n",
       "        text-align: right;\n",
       "    }\n",
       "\n",
       "    .dataframe thead th {\n",
       "        text-align: left;\n",
       "    }\n",
       "\n",
       "    .dataframe tbody tr th {\n",
       "        vertical-align: top;\n",
       "    }\n",
       "</style>\n",
       "<table border=\"1\" class=\"dataframe\">\n",
       "  <thead>\n",
       "    <tr style=\"text-align: right;\">\n",
       "      <th></th>\n",
       "      <th>directores</th>\n",
       "      <th>criticas</th>\n",
       "      <th>duracion</th>\n",
       "      <th>genero</th>\n",
       "      <th>actores1</th>\n",
       "      <th>actores2</th>\n",
       "      <th>actores3</th>\n",
       "      <th>rostros</th>\n",
       "      <th>scores</th>\n",
       "      <th>gross</th>\n",
       "      <th>budget</th>\n",
       "      <th>class</th>\n",
       "    </tr>\n",
       "  </thead>\n",
       "  <tbody>\n",
       "    <tr>\n",
       "      <th>0</th>\n",
       "      <td>0.024778</td>\n",
       "      <td>0.003295</td>\n",
       "      <td>0.011543</td>\n",
       "      <td>0.007769</td>\n",
       "      <td>0.034020</td>\n",
       "      <td>0.029215</td>\n",
       "      <td>0.027567</td>\n",
       "      <td>0.007924</td>\n",
       "      <td>0.014223</td>\n",
       "      <td>0.000016</td>\n",
       "      <td>7.773335e-08</td>\n",
       "      <td>1.0</td>\n",
       "    </tr>\n",
       "    <tr>\n",
       "      <th>1</th>\n",
       "      <td>0.031655</td>\n",
       "      <td>0.001073</td>\n",
       "      <td>0.012825</td>\n",
       "      <td>0.011654</td>\n",
       "      <td>0.015347</td>\n",
       "      <td>0.000761</td>\n",
       "      <td>0.027559</td>\n",
       "      <td>0.028946</td>\n",
       "      <td>0.013576</td>\n",
       "      <td>0.000002</td>\n",
       "      <td>2.522814e-03</td>\n",
       "      <td>1.0</td>\n",
       "    </tr>\n",
       "    <tr>\n",
       "      <th>2</th>\n",
       "      <td>0.031642</td>\n",
       "      <td>0.000996</td>\n",
       "      <td>0.009747</td>\n",
       "      <td>0.018128</td>\n",
       "      <td>0.034004</td>\n",
       "      <td>0.029206</td>\n",
       "      <td>0.027551</td>\n",
       "      <td>0.007924</td>\n",
       "      <td>0.013576</td>\n",
       "      <td>0.007426</td>\n",
       "      <td>9.893336e-08</td>\n",
       "      <td>1.0</td>\n",
       "    </tr>\n",
       "    <tr>\n",
       "      <th>3</th>\n",
       "      <td>0.001505</td>\n",
       "      <td>0.003295</td>\n",
       "      <td>0.005515</td>\n",
       "      <td>0.022013</td>\n",
       "      <td>0.033988</td>\n",
       "      <td>0.029196</td>\n",
       "      <td>0.027543</td>\n",
       "      <td>0.005789</td>\n",
       "      <td>0.016162</td>\n",
       "      <td>0.007426</td>\n",
       "      <td>2.522814e-03</td>\n",
       "      <td>2.0</td>\n",
       "    </tr>\n",
       "    <tr>\n",
       "      <th>4</th>\n",
       "      <td>0.031629</td>\n",
       "      <td>0.000077</td>\n",
       "      <td>0.011158</td>\n",
       "      <td>0.011654</td>\n",
       "      <td>0.024448</td>\n",
       "      <td>0.029186</td>\n",
       "      <td>0.006778</td>\n",
       "      <td>0.011579</td>\n",
       "      <td>0.016593</td>\n",
       "      <td>0.007426</td>\n",
       "      <td>2.522814e-03</td>\n",
       "      <td>2.0</td>\n",
       "    </tr>\n",
       "  </tbody>\n",
       "</table>\n",
       "</div>"
      ],
      "text/plain": [
       "   directores  criticas  duracion    genero  actores1  actores2  actores3  \\\n",
       "0    0.024778  0.003295  0.011543  0.007769  0.034020  0.029215  0.027567   \n",
       "1    0.031655  0.001073  0.012825  0.011654  0.015347  0.000761  0.027559   \n",
       "2    0.031642  0.000996  0.009747  0.018128  0.034004  0.029206  0.027551   \n",
       "3    0.001505  0.003295  0.005515  0.022013  0.033988  0.029196  0.027543   \n",
       "4    0.031629  0.000077  0.011158  0.011654  0.024448  0.029186  0.006778   \n",
       "\n",
       "    rostros    scores     gross        budget  class  \n",
       "0  0.007924  0.014223  0.000016  7.773335e-08    1.0  \n",
       "1  0.028946  0.013576  0.000002  2.522814e-03    1.0  \n",
       "2  0.007924  0.013576  0.007426  9.893336e-08    1.0  \n",
       "3  0.005789  0.016162  0.007426  2.522814e-03    2.0  \n",
       "4  0.011579  0.016593  0.007426  2.522814e-03    2.0  "
      ]
     },
     "execution_count": 7,
     "metadata": {},
     "output_type": "execute_result"
    }
   ],
   "source": [
    "numericalDF = pd.read_csv('numericalData.csv')\n",
    "columnas = ['directores','criticas','duracion','genero','actores1','actores2','actores3','rostros',\n",
    "            'scores','gross','budget','class']\n",
    "del numericalDF['Unnamed: 0']\n",
    "for i in columnas:\n",
    "    numericalDF.loc[numericalDF[i] == 0, i] = numericalDF[i].mean()\n",
    "df = numericalDF\n",
    "df_pure = numericalDF[list(['directores','criticas','duracion','genero','actores1','actores2','actores3','rostros',\n",
    "            'gross','budget'])]\n",
    "df_class = numericalDF[list(['class'])]\n",
    "numericalDF.head()"
   ]
  },
  {
   "cell_type": "code",
   "execution_count": 16,
   "metadata": {},
   "outputs": [],
   "source": [
    "X_trainPID, X_testPID, y_trainPID, y_testPID = train_test_split(\n",
    "    df_pure.values, df_class.values.ravel(), test_size=.2)"
   ]
  },
  {
   "cell_type": "code",
   "execution_count": 17,
   "metadata": {},
   "outputs": [
    {
     "name": "stdout",
     "output_type": "stream",
     "text": [
      "SVM Lineal, C=1 (default)\n",
      "Puntos mal clasificados (entrenamiento): 1230 de 4028 (30.536246276067526%)       \n",
      "Puntos mal clasificados (prueba): 326 de 1008 (32.34126984126984%)       \n",
      "Aciertos del 67.65873015873017%\n",
      "Tiempo: 0.02552962303161621\n",
      "\n"
     ]
    }
   ],
   "source": [
    "svmLineal = LinearSVC()\n",
    "start_time = time.time()\n",
    "svmLineal.fit(X_trainPID, y_trainPID)\n",
    "elapsed_time = time.time() - start_time\n",
    "\n",
    "preds_train_Lineal = svmLineal.predict(X_trainPID)\n",
    "fails_train_Lineal = np.sum(y_trainPID != preds_train_Lineal)\n",
    "\n",
    "preds_Lineal = svmLineal.predict(X_testPID)\n",
    "fails_Lineal = np.sum(y_testPID != preds_Lineal)\n",
    "\n",
    "print(\"SVM Lineal, C=1 (default)\\nPuntos mal clasificados (entrenamiento): {} de {} ({}%)\\\n",
    "       \\nPuntos mal clasificados (prueba): {} de {} ({}%)\\\n",
    "       \\nAciertos del {}%\\nTiempo: {}\\n\"\n",
    "      .format(fails_train_Lineal, len(y_trainPID), 100*fails_train_Lineal/len(y_trainPID),\n",
    "              fails_Lineal, len(y_testPID), 100*fails_Lineal/len(y_testPID), \n",
    "              svmLineal.score(X_testPID, y_testPID)*100, elapsed_time))"
   ]
  },
  {
   "cell_type": "code",
   "execution_count": 25,
   "metadata": {},
   "outputs": [
    {
     "name": "stdout",
     "output_type": "stream",
     "text": [
      "SVM RBF, C=1.0\n",
      "Puntos mal clasificados (entrenamiento): 1257 de 4028 (31.206554121151935%)       \n",
      "Puntos mal clasificados (prueba): 333 de 1008 (33.035714285714285%)       \n",
      "Aciertos del 66.96428571428571%\n",
      "Tiempo: 0.5609030723571777\n",
      "\n"
     ]
    }
   ],
   "source": [
    "svmRbf = SVC(kernel='rbf', C=1.0)\n",
    "start_time = time.time()\n",
    "svmRbf.fit(X_trainPID, y_trainPID)\n",
    "elapsed_time = time.time() - start_time\n",
    "\n",
    "preds_train_Rbf = svmRbf.predict(X_trainPID)\n",
    "fails_train_Rbf = np.sum(y_trainPID != preds_train_Rbf)\n",
    "\n",
    "preds_Rbf = svmRbf.predict(X_testPID)\n",
    "fails_Rbf = np.sum(y_testPID != preds_Rbf)\n",
    "\n",
    "print(\"SVM RBF, C=1.0\\nPuntos mal clasificados (entrenamiento): {} de {} ({}%)\\\n",
    "       \\nPuntos mal clasificados (prueba): {} de {} ({}%)\\\n",
    "       \\nAciertos del {}%\\nTiempo: {}\\n\"\n",
    "      .format(fails_train_Rbf, len(y_trainPID), 100*fails_train_Rbf/len(y_trainPID),\n",
    "              fails_Rbf, len(y_testPID), 100*fails_Rbf/len(y_testPID), \n",
    "              svmRbf.score(X_testPID, y_testPID)*100, elapsed_time))"
   ]
  },
  {
   "cell_type": "code",
   "execution_count": 26,
   "metadata": {},
   "outputs": [
    {
     "name": "stdout",
     "output_type": "stream",
     "text": [
      "SVM RBF, C=500\n",
      "Puntos mal clasificados (entrenamiento): 1213 de 4028 (30.114200595829196%)       \n",
      "Puntos mal clasificados (prueba): 320 de 1008 (31.746031746031747%)       \n",
      "Aciertos del 68.25396825396825%\n",
      "Tiempo: 0.6389672756195068\n",
      "\n"
     ]
    }
   ],
   "source": [
    "svmRbf = SVC(kernel='rbf', C=500, gamma=0.1)\n",
    "start_time = time.time()\n",
    "svmRbf.fit(X_trainPID, y_trainPID)\n",
    "elapsed_time = time.time() - start_time\n",
    "\n",
    "preds_train_Rbf = svmRbf.predict(X_trainPID)\n",
    "fails_train_Rbf = np.sum(y_trainPID != preds_train_Rbf)\n",
    "\n",
    "preds_Rbf = svmRbf.predict(X_testPID)\n",
    "fails_Rbf = np.sum(y_testPID != preds_Rbf)\n",
    "\n",
    "print(\"SVM RBF, C=500\\nPuntos mal clasificados (entrenamiento): {} de {} ({}%)\\\n",
    "       \\nPuntos mal clasificados (prueba): {} de {} ({}%)\\\n",
    "       \\nAciertos del {}%\\nTiempo: {}\\n\"\n",
    "      .format(fails_train_Rbf, len(y_trainPID), 100*fails_train_Rbf/len(y_trainPID),\n",
    "              fails_Rbf, len(y_testPID), 100*fails_Rbf/len(y_testPID), \n",
    "              svmRbf.score(X_testPID, y_testPID)*100, elapsed_time))\n"
   ]
  },
  {
   "cell_type": "code",
   "execution_count": 28,
   "metadata": {},
   "outputs": [
    {
     "name": "stdout",
     "output_type": "stream",
     "text": [
      "Diabetes\n",
      "SVM Sigmoide, C=1.0\n",
      "Puntos mal clasificados (entrenamiento): 1257 de 4028 (31.206554121151935%)       \n",
      "Puntos mal clasificados (prueba): 333 de 1008 (33.035714285714285%)       \n",
      "Aciertos del 66.96428571428571%\n",
      "Tiempo: 1.2904388904571533\n",
      "\n"
     ]
    }
   ],
   "source": [
    "svmSgm = SVC(kernel='sigmoid')\n",
    "start_time = time.time()\n",
    "svmSgm.fit(X_trainPID, y_trainPID)\n",
    "elapsed_time = time.time() - start_time\n",
    "\n",
    "preds_train_Sgm = svmSgm.predict(X_trainPID)\n",
    "fails_train_Sgm = np.sum(y_trainPID != preds_train_Sgm)\n",
    "\n",
    "preds_Sgm = svmSgm.predict(X_testPID)\n",
    "fails_Sgm = np.sum(y_testPID != preds_Sgm)\n",
    "\n",
    "print(\"Diabetes\\nSVM Sigmoide, C=1.0\\nPuntos mal clasificados (entrenamiento): {} de {} ({}%)\\\n",
    "       \\nPuntos mal clasificados (prueba): {} de {} ({}%)\\\n",
    "       \\nAciertos del {}%\\nTiempo: {}\\n\"\n",
    "      .format(fails_train_Sgm, len(y_trainPID), 100*fails_train_Sgm/len(y_trainPID),\n",
    "              fails_Sgm, len(y_testPID), 100*fails_Sgm/len(y_testPID), \n",
    "              svmSgm.score(X_testPID, y_testPID)*100, elapsed_time))"
   ]
  }
 ],
 "metadata": {
  "kernelspec": {
   "display_name": "Python 3",
   "language": "python",
   "name": "python3"
  },
  "language_info": {
   "codemirror_mode": {
    "name": "ipython",
    "version": 3
   },
   "file_extension": ".py",
   "mimetype": "text/x-python",
   "name": "python",
   "nbconvert_exporter": "python",
   "pygments_lexer": "ipython3",
   "version": "3.6.3"
  }
 },
 "nbformat": 4,
 "nbformat_minor": 2
}
