{
 "cells": [
  {
   "cell_type": "code",
   "execution_count": 30,
   "metadata": {
    "scrolled": false
   },
   "outputs": [],
   "source": [
    "# Inicializar el ambiente\n",
    "import numpy as np\n",
    "import pandas as pd\n",
    "import random\n",
    "import sys\n",
    "from scipy.spatial import distance\n",
    "np.set_printoptions(precision=2, suppress=True) # Cortar la impresión de decimales a 1\n",
    "import matplotlib.pyplot as plt\n",
    "\n",
    "\n",
    "\n",
    "LARGER_DISTANCE = sys.maxsize\n",
    "TALK = True # TALK = True, imprime resultados parciales"
   ]
  },
  {
   "cell_type": "code",
   "execution_count": 31,
   "metadata": {},
   "outputs": [
    {
     "data": {
      "text/html": [
       "<div>\n",
       "<style>\n",
       "    .dataframe thead tr:only-child th {\n",
       "        text-align: right;\n",
       "    }\n",
       "\n",
       "    .dataframe thead th {\n",
       "        text-align: left;\n",
       "    }\n",
       "\n",
       "    .dataframe tbody tr th {\n",
       "        vertical-align: top;\n",
       "    }\n",
       "</style>\n",
       "<table border=\"1\" class=\"dataframe\">\n",
       "  <thead>\n",
       "    <tr style=\"text-align: right;\">\n",
       "      <th></th>\n",
       "      <th>directores</th>\n",
       "      <th>criticas</th>\n",
       "      <th>duracion</th>\n",
       "      <th>genero</th>\n",
       "      <th>actores1</th>\n",
       "      <th>actores2</th>\n",
       "      <th>actores3</th>\n",
       "      <th>rostros</th>\n",
       "      <th>scores</th>\n",
       "      <th>gross</th>\n",
       "      <th>budget</th>\n",
       "    </tr>\n",
       "  </thead>\n",
       "  <tbody>\n",
       "    <tr>\n",
       "      <th>0</th>\n",
       "      <td>1877.0</td>\n",
       "      <td>43.0</td>\n",
       "      <td>90.0</td>\n",
       "      <td>6.0</td>\n",
       "      <td>2097.0</td>\n",
       "      <td>3032.0</td>\n",
       "      <td>3522.0</td>\n",
       "      <td>1.368745</td>\n",
       "      <td>6.6</td>\n",
       "      <td>8.522200e+04</td>\n",
       "      <td>1.100000e+03</td>\n",
       "    </tr>\n",
       "    <tr>\n",
       "      <th>1</th>\n",
       "      <td>2398.0</td>\n",
       "      <td>14.0</td>\n",
       "      <td>100.0</td>\n",
       "      <td>9.0</td>\n",
       "      <td>946.0</td>\n",
       "      <td>79.0</td>\n",
       "      <td>3521.0</td>\n",
       "      <td>5.000000</td>\n",
       "      <td>6.3</td>\n",
       "      <td>1.044300e+04</td>\n",
       "      <td>3.570019e+07</td>\n",
       "    </tr>\n",
       "    <tr>\n",
       "      <th>2</th>\n",
       "      <td>2397.0</td>\n",
       "      <td>13.0</td>\n",
       "      <td>76.0</td>\n",
       "      <td>14.0</td>\n",
       "      <td>2096.0</td>\n",
       "      <td>3031.0</td>\n",
       "      <td>3520.0</td>\n",
       "      <td>1.368745</td>\n",
       "      <td>6.3</td>\n",
       "      <td>3.968876e+07</td>\n",
       "      <td>1.400000e+03</td>\n",
       "    </tr>\n",
       "    <tr>\n",
       "      <th>3</th>\n",
       "      <td>114.0</td>\n",
       "      <td>43.0</td>\n",
       "      <td>43.0</td>\n",
       "      <td>17.0</td>\n",
       "      <td>2095.0</td>\n",
       "      <td>3030.0</td>\n",
       "      <td>3519.0</td>\n",
       "      <td>1.000000</td>\n",
       "      <td>7.5</td>\n",
       "      <td>3.968876e+07</td>\n",
       "      <td>3.570019e+07</td>\n",
       "    </tr>\n",
       "    <tr>\n",
       "      <th>4</th>\n",
       "      <td>2396.0</td>\n",
       "      <td>1.0</td>\n",
       "      <td>87.0</td>\n",
       "      <td>9.0</td>\n",
       "      <td>1507.0</td>\n",
       "      <td>3029.0</td>\n",
       "      <td>866.0</td>\n",
       "      <td>2.000000</td>\n",
       "      <td>7.7</td>\n",
       "      <td>3.968876e+07</td>\n",
       "      <td>3.570019e+07</td>\n",
       "    </tr>\n",
       "  </tbody>\n",
       "</table>\n",
       "</div>"
      ],
      "text/plain": [
       "   directores  criticas  duracion  genero  actores1  actores2  actores3  \\\n",
       "0      1877.0      43.0      90.0     6.0    2097.0    3032.0    3522.0   \n",
       "1      2398.0      14.0     100.0     9.0     946.0      79.0    3521.0   \n",
       "2      2397.0      13.0      76.0    14.0    2096.0    3031.0    3520.0   \n",
       "3       114.0      43.0      43.0    17.0    2095.0    3030.0    3519.0   \n",
       "4      2396.0       1.0      87.0     9.0    1507.0    3029.0     866.0   \n",
       "\n",
       "    rostros  scores         gross        budget  \n",
       "0  1.368745     6.6  8.522200e+04  1.100000e+03  \n",
       "1  5.000000     6.3  1.044300e+04  3.570019e+07  \n",
       "2  1.368745     6.3  3.968876e+07  1.400000e+03  \n",
       "3  1.000000     7.5  3.968876e+07  3.570019e+07  \n",
       "4  2.000000     7.7  3.968876e+07  3.570019e+07  "
      ]
     },
     "execution_count": 31,
     "metadata": {},
     "output_type": "execute_result"
    }
   ],
   "source": [
    "numericalDF = pd.read_csv('numericalData.csv')\n",
    "columnas = ['directores','criticas','duracion','genero','actores1','actores2','actores3','rostros',\n",
    "            'scores','gross','budget']\n",
    "del numericalDF['Unnamed: 0']\n",
    "\n",
    "for i in columnas:\n",
    "    numericalDF.loc[numericalDF[i] == 0, i] = numericalDF[i].mean()\n",
    "X = numericalDF.head(20)\n",
    "numericalDF.head()"
   ]
  },
  {
   "cell_type": "code",
   "execution_count": 34,
   "metadata": {},
   "outputs": [
    {
     "data": {
      "image/png": "[encoded data removed]",
      "text/plain": [
       "<matplotlib.figure.Figure at 0xb7cb3d0>"
      ]
     },
     "metadata": {},
     "output_type": "display_data"
    }
   ],
   "source": [
    "DATA_SET = numericalDF.values\n",
    "DATA_LEN = len(DATA_SET)\n",
    "plt.plot(DATA_SET)\n",
    "plt.show()\n",
    "class DataPoint:\n",
    "    def __init__(self, p):\n",
    "        self.value = p[:]\n",
    "        \n",
    "    def set_value(self, p):\n",
    "        self.value = p\n",
    "    \n",
    "    def get_value(self):\n",
    "        return self.value\n",
    "    \n",
    "    def set_cluster(self, cluster):\n",
    "        self.cluster = cluster\n",
    "    \n",
    "    def get_cluster(self):\n",
    "        return self.cluster\n",
    "\n",
    "data = []\n",
    "def initialize_dataset():\n",
    "    for i in range(DATA_LEN):\n",
    "        point = DataPoint(DATA_SET[i])\n",
    "        point.set_cluster(None)\n",
    "        data.append(point)\n",
    "    return\n",
    "initialize_dataset()\n",
    "NUM_CLUSTERS = 3"
   ]
  },
  {
   "cell_type": "code",
   "execution_count": 26,
   "metadata": {},
   "outputs": [
    {
     "name": "stdout",
     "output_type": "stream",
     "text": [
      "Centroides inicializados en:\n",
      "[1877.0, 43.0, 90.0, 6.0, 2097.0, 3032.0, 3522.0, 1.3687450357426529, 6.5999999999999996, 85222.0, 1100.0]\n",
      "[2398.0, 14.0, 100.0, 9.0, 946.0, 79.0, 3521.0, 5.0, 6.2999999999999998, 10443.0, 35700193.726370133]\n",
      "[2397.0, 13.0, 76.0, 14.0, 2096.0, 3031.0, 3520.0, 1.3687450357426529, 6.2999999999999998, 39688758.894360602, 1400.0]\n",
      "\n"
     ]
    }
   ],
   "source": [
    "SAMPLING_METHOD = 1 \n",
    "\n",
    "centroids = []\n",
    "def initialize_centroids():\n",
    "    if (TALK) : \n",
    "        print(\"Centroides inicializados en:\")\n",
    "    for c in range(NUM_CLUSTERS):\n",
    "        if (SAMPLING_METHOD == 0) :\n",
    "            which = random.randint(0,DATA_LEN-1)\n",
    "        elif (SAMPLING_METHOD == 1):\n",
    "            which = c\n",
    "        else :\n",
    "            which = DATA_LEN-1 - c\n",
    "                \n",
    "        centroids.append(list(DATA_SET[which]))\n",
    "        if (TALK) : \n",
    "            print(centroids[c])        \n",
    "    if (TALK) : \n",
    "        print()\n",
    "    \n",
    "    return\n",
    "\n",
    "# --------------------------\n",
    "# Inicializar los centroides\n",
    "initialize_centroids()"
   ]
  },
  {
   "cell_type": "code",
   "execution_count": 27,
   "metadata": {},
   "outputs": [
    {
     "name": "stdout",
     "output_type": "stream",
     "text": [
      "El cluster  0  incluye  1076 miembros.\n",
      "El cluster  1  incluye  1393 miembros.\n",
      "El cluster  2  incluye  2567 miembros.\n",
      "\n"
     ]
    }
   ],
   "source": [
    "def update_clusters():\n",
    "    changed = False\n",
    "    \n",
    "    for i in range(DATA_LEN):\n",
    "        minDistance = LARGER_DISTANCE\n",
    "        currentCluster = 0\n",
    "        \n",
    "        for j in range(NUM_CLUSTERS):\n",
    "            dist = distance.euclidean(data[i].get_value(), centroids[j])\n",
    "            if(dist < minDistance):\n",
    "                minDistance = dist\n",
    "                currentCluster = j\n",
    "        \n",
    "        if(data[i].get_cluster() is None or data[i].get_cluster() != currentCluster):\n",
    "            data[i].set_cluster(currentCluster)\n",
    "            changed = True\n",
    "            \n",
    "    members = [0] * NUM_CLUSTERS\n",
    "    for i in range(DATA_LEN):\n",
    "        members[data[i].get_cluster()] += 1\n",
    "    \n",
    "    if (TALK) : \n",
    "        for j in range(NUM_CLUSTERS):\n",
    "            print(\"El cluster \", j, \" incluye \", members[j], \"miembros.\")\n",
    "        print()\n",
    "            \n",
    "    return changed\n",
    "\n",
    "# --------------------------\n",
    "# Actualizar los clusters\n",
    "KEEP_WALKING = update_clusters()"
   ]
  },
  {
   "cell_type": "code",
   "execution_count": 28,
   "metadata": {},
   "outputs": [
    {
     "name": "stdout",
     "output_type": "stream",
     "text": [
      "El cluster  0  incluye  1076 miembros.\n",
      "El cluster  1  incluye  1393 miembros.\n",
      "El cluster  2  incluye  2567 miembros.\n",
      "\n",
      "No más cambios.\n"
     ]
    }
   ],
   "source": [
    "while(KEEP_WALKING):\n",
    "    KEEP_WALKING = update_clusters()\n",
    "    if (KEEP_WALKING):\n",
    "        update_centroids()\n",
    "    else :\n",
    "        if (TALK) : \n",
    "            print (\"No más cambios.\")"
   ]
  },
  {
   "cell_type": "code",
   "execution_count": null,
   "metadata": {},
   "outputs": [],
   "source": []
  },
  {
   "cell_type": "code",
   "execution_count": null,
   "metadata": {},
   "outputs": [],
   "source": []
  },
  {
   "cell_type": "code",
   "execution_count": null,
   "metadata": {},
   "outputs": [],
   "source": []
  },
  {
   "cell_type": "code",
   "execution_count": null,
   "metadata": {},
   "outputs": [],
   "source": []
  },
  {
   "cell_type": "code",
   "execution_count": null,
   "metadata": {},
   "outputs": [],
   "source": []
  },
  {
   "cell_type": "code",
   "execution_count": null,
   "metadata": {},
   "outputs": [],
   "source": []
  }
 ],
 "metadata": {
  "kernelspec": {
   "display_name": "Python 3",
   "language": "python",
   "name": "python3"
  },
  "language_info": {
   "codemirror_mode": {
    "name": "ipython",
    "version": 3
   },
   "file_extension": ".py",
   "mimetype": "text/x-python",
   "name": "python",
   "nbconvert_exporter": "python",
   "pygments_lexer": "ipython3",
   "version": "3.6.3"
  }
 },
 "nbformat": 4,
 "nbformat_minor": 2
}
